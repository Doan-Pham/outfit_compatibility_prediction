{
 "cells": [
  {
   "cell_type": "markdown",
   "metadata": {},
   "source": [
    "#Test ImageEncoder"
   ]
  },
  {
   "cell_type": "code",
   "execution_count": null,
   "metadata": {},
   "outputs": [],
   "source": [
    "import logging\n",
    "import torch\n",
    "import torch.nn as nn\n",
    "from torchvision.models import resnet18\n",
    "from torch.optim import Adam\n",
    "\n",
    "from image_encoder import ImageEncoder\n",
    "\n",
    "logging.basicConfig(level=logging.DEBUG)\n",
    "\n",
    "num_epochs = 3\n",
    "batch_size = 5\n",
    "# Create an instance of the ImageEncoder\n",
    "image_encoder = ImageEncoder(output_embedding_dim=64)\n",
    "\n",
    "# Define a loss function (e.g., mean squared error for regression)\n",
    "criterion = nn.MSELoss()\n",
    "\n",
    "# Define an optimizer (e.g., Adam optimizer)\n",
    "optimizer = Adam(image_encoder.parameters(), lr=0.001)\n",
    "\n",
    "# Dummy input data (replace this with your actual data loading logic)\n",
    "dummy_input = torch.randn((batch_size, 3, 224, 224))\n",
    "\n",
    "# Dummy target data (replace this with your actual target data)\n",
    "dummy_target = torch.randn((batch_size, 64))\n",
    "\n",
    "# Training loop\n",
    "for epoch in range(num_epochs):\n",
    "    # Forward pass\n",
    "    outputs = image_encoder(dummy_input)\n",
    "\n",
    "    # Compute the loss\n",
    "    loss = criterion(outputs, dummy_target)\n",
    "\n",
    "    # Backward pass\n",
    "    optimizer.zero_grad()\n",
    "    loss.backward()\n",
    "\n",
    "# Update weights\n",
    "    optimizer.step()\n",
    "\n",
    "    print(f\"Epoch {epoch + 1}/{num_epochs}, Loss: {loss.item()}\")"
   ]
  },
  {
   "cell_type": "markdown",
   "metadata": {},
   "source": [
    "#Test TextEncoder"
   ]
  },
  {
   "cell_type": "code",
   "execution_count": null,
   "metadata": {},
   "outputs": [],
   "source": [
    "# Create an instance of the TextEncoder\n",
    "import logging\n",
    "from text_encoder import TextEncoder\n",
    "import torch\n",
    "import torch.nn as nn\n",
    "\n",
    "logging.basicConfig(level=logging.DEBUG)\n",
    "\n",
    "text_encoder = TextEncoder(output_embedding_dim=64)\n",
    "\n",
    "num_epochs = 3\n",
    "\n",
    "# Define a loss function (e.g., mean squared error for regression)\n",
    "criterion = nn.MSELoss()\n",
    "\n",
    "# Define an optimizer (e.g., Adam optimizer)\n",
    "optimizer = torch.optim.Adam(text_encoder.parameters(), lr=0.001)\n",
    "\n",
    "# Dummy input data (replace this with your actual data loading logic)\n",
    "dummy_sentences = [\"This is a sample sentence.\", \"Another example sentence.\"]\n",
    "dummy_target = torch.randn((len(dummy_sentences), 64))\n",
    "\n",
    "# Training loop\n",
    "for epoch in range(num_epochs):\n",
    "    # Forward pass\n",
    "    outputs = text_encoder(dummy_sentences)\n",
    "\n",
    "    # Compute the loss\n",
    "    loss = criterion(outputs, dummy_target)\n",
    "\n",
    "    # Backward pass\n",
    "    optimizer.zero_grad()\n",
    "    loss.backward()\n",
    "\n",
    "    # Update weights\n",
    "    optimizer.step()\n",
    "\n",
    "    print(f\"Epoch {epoch + 1}/{num_epochs}, Loss: {loss.item()}\")"
   ]
  },
  {
   "cell_type": "markdown",
   "metadata": {},
   "source": [
    "#Test TransformerEncoder"
   ]
  },
  {
   "cell_type": "code",
   "execution_count": null,
   "metadata": {},
   "outputs": [],
   "source": [
    "import torch\n",
    "import torch.nn as nn\n",
    "import logging\n",
    "\n",
    "from transformer_encoder import TransformerEncoder\n",
    "\n",
    "logging.basicConfig(level=logging.DEBUG)\n",
    "\n",
    "# Create an instance of the custom transformer encoder\n",
    "custom_encoder = TransformerEncoder(\n",
    "    input_size=128,\n",
    ")\n",
    "\n",
    "# Dummy input tensor (adjust the sequence length and batch size as needed)\n",
    "dummy_input = torch.randn((10, 32, 128))\n",
    "\n",
    "# Forward pass through the custom encoder\n",
    "output = custom_encoder(dummy_input)"
   ]
  },
  {
   "cell_type": "markdown",
   "metadata": {},
   "source": [
    "#Test Main"
   ]
  },
  {
   "cell_type": "code",
   "execution_count": 2,
   "metadata": {},
   "outputs": [
    {
     "ename": "ModuleNotFoundError",
     "evalue": "No module named 'matplotlib'",
     "output_type": "error",
     "traceback": [
      "\u001b[0;31m---------------------------------------------------------------------------\u001b[0m",
      "\u001b[0;31mModuleNotFoundError\u001b[0m                       Traceback (most recent call last)",
      "File \u001b[0;32m~/outfit_recommendation/main.py:4\u001b[0m\n\u001b[1;32m      2\u001b[0m \u001b[39mimport\u001b[39;00m \u001b[39mlogging\u001b[39;00m\n\u001b[1;32m      3\u001b[0m \u001b[39mimport\u001b[39;00m \u001b[39mzipfile\u001b[39;00m\n\u001b[0;32m----> 4\u001b[0m \u001b[39mfrom\u001b[39;00m \u001b[39mmatplotlib\u001b[39;00m \u001b[39mimport\u001b[39;00m pyplot \u001b[39mas\u001b[39;00m plt\n\u001b[1;32m      5\u001b[0m \u001b[39mfrom\u001b[39;00m \u001b[39msklearn\u001b[39;00m\u001b[39m.\u001b[39;00m\u001b[39mmetrics\u001b[39;00m \u001b[39mimport\u001b[39;00m (\n\u001b[1;32m      6\u001b[0m     precision_score,\n\u001b[1;32m      7\u001b[0m     roc_auc_score,\n\u001b[0;32m   (...)\u001b[0m\n\u001b[1;32m     10\u001b[0m     f1_score,\n\u001b[1;32m     11\u001b[0m )\n\u001b[1;32m     12\u001b[0m \u001b[39mimport\u001b[39;00m \u001b[39mtorch\u001b[39;00m\n",
      "\u001b[0;31mModuleNotFoundError\u001b[0m: No module named 'matplotlib'"
     ]
    }
   ],
   "source": [
    "%run main.py --log_level 0"
   ]
  }
 ],
 "metadata": {
  "kernelspec": {
   "display_name": "Python 3.11.2 64-bit",
   "language": "python",
   "name": "python3"
  },
  "language_info": {
   "codemirror_mode": {
    "name": "ipython",
    "version": 3
   },
   "file_extension": ".py",
   "mimetype": "text/x-python",
   "name": "python",
   "nbconvert_exporter": "python",
   "pygments_lexer": "ipython3",
   "version": "3.11.2"
  },
  "orig_nbformat": 4,
  "vscode": {
   "interpreter": {
    "hash": "aee8b7b246df8f9039afb4144a1f6fd8d2ca17a180786b69acc140d282b71a49"
   }
  }
 },
 "nbformat": 4,
 "nbformat_minor": 2
}
