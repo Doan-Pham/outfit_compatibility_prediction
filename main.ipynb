{
 "cells": [
  {
   "cell_type": "markdown",
   "metadata": {},
   "source": [
    "### Initialize Data"
   ]
  },
  {
   "cell_type": "code",
   "execution_count": 1,
   "metadata": {},
   "outputs": [
    {
     "name": "stdout",
     "output_type": "stream",
     "text": [
      "MockOutfitDataset; images: torch.Size([20, 5, 3, 224, 224]), texts: [['mock description 0', 'mock description 1', 'mock description 2', 'mock description 3', 'mock description 4'], ['mock description 0', 'mock description 1', 'mock description 2', 'mock description 3', 'mock description 4'], ['mock description 0', 'mock description 1', 'mock description 2', 'mock description 3', 'mock description 4'], ['mock description 0', 'mock description 1', 'mock description 2', 'mock description 3', 'mock description 4'], ['mock description 0', 'mock description 1', 'mock description 2', 'mock description 3', 'mock description 4'], ['mock description 0', 'mock description 1', 'mock description 2', 'mock description 3', 'mock description 4'], ['mock description 0', 'mock description 1', 'mock description 2', 'mock description 3', 'mock description 4'], ['mock description 0', 'mock description 1', 'mock description 2', 'mock description 3', 'mock description 4'], ['mock description 0', 'mock description 1', 'mock description 2', 'mock description 3', 'mock description 4'], ['mock description 0', 'mock description 1', 'mock description 2', 'mock description 3', 'mock description 4'], ['mock description 0', 'mock description 1', 'mock description 2', 'mock description 3', 'mock description 4'], ['mock description 0', 'mock description 1', 'mock description 2', 'mock description 3', 'mock description 4'], ['mock description 0', 'mock description 1', 'mock description 2', 'mock description 3', 'mock description 4'], ['mock description 0', 'mock description 1', 'mock description 2', 'mock description 3', 'mock description 4'], ['mock description 0', 'mock description 1', 'mock description 2', 'mock description 3', 'mock description 4'], ['mock description 0', 'mock description 1', 'mock description 2', 'mock description 3', 'mock description 4'], ['mock description 0', 'mock description 1', 'mock description 2', 'mock description 3', 'mock description 4'], ['mock description 0', 'mock description 1', 'mock description 2', 'mock description 3', 'mock description 4'], ['mock description 0', 'mock description 1', 'mock description 2', 'mock description 3', 'mock description 4'], ['mock description 0', 'mock description 1', 'mock description 2', 'mock description 3', 'mock description 4']]\n"
     ]
    }
   ],
   "source": [
    "import torch\n",
    "import torch.optim as optim\n",
    "from focal_loss import FocalLoss\n",
    "from mock_dataset import MockOutfitDataset\n",
    "from outfit_model import OutfitCompatibilityModel\n",
    "import torch.nn as nn\n",
    "from utils import save_checkpoint\n",
    "import logging\n",
    "\n",
    "logging.basicConfig(level=logging.DEBUG)\n",
    "\n",
    "# Instantiate the mock dataset and dataloader\n",
    "# Contains list of all outfits\n",
    "mock_dataset = MockOutfitDataset()\n",
    "\n",
    "\n",
    "# Organizes your dataset into batches.\n",
    "# Batch size = number of samples processed in one iteration\n",
    "# Number of batches = total samples divided by batch_size\n",
    "# Each this case, a sample = an outfit\n",
    "def custom_collate(batch):\n",
    "    images = torch.stack([item[\"outfit_images\"] for item in batch], dim=0)\n",
    "    texts = [item[\"outfit_texts\"] for item in batch]\n",
    "    labels = torch.stack([item[\"outfit_labels\"] for item in batch], dim=0)\n",
    "\n",
    "    return images, texts, labels\n",
    "\n",
    "\n",
    "dataloader = torch.utils.data.DataLoader(\n",
    "    mock_dataset, batch_size=15, shuffle=True, collate_fn=custom_collate\n",
    ")"
   ]
  },
  {
   "cell_type": "markdown",
   "metadata": {},
   "source": [
    "### Visualize Data"
   ]
  },
  {
   "cell_type": "code",
   "execution_count": 2,
   "metadata": {},
   "outputs": [],
   "source": [
    "# CURRENTLY NOT USABLE\n",
    "\n",
    "# from matplotlib import pyplot as plt\n",
    "# import torchvision.transforms.functional as F\n",
    "\n",
    "\n",
    "# def show_images(images, labels):\n",
    "#     for i in range(images.size(1)):\n",
    "#         image = F.to_pil_image(images[:, i, ...])\n",
    "#         plt.subplot(1, images.size(1), i + 1)\n",
    "#         plt.imshow(image)\n",
    "#         plt.title(f\"Label: {labels[i]}\")\n",
    "#         plt.axis(\"off\")\n",
    "#     plt.show()\n",
    "\n",
    "\n",
    "# for batch_idx, (images, texts, labels) in enumerate(dataloader):\n",
    "#     print(\n",
    "#         f\"Batch {batch_idx + 1} - Shape of images: {images.shape}, Texts: {texts}, Labels: {labels}\"\n",
    "#     )\n",
    "\n",
    "#     # Visualize the images\n",
    "#     show_images(images, labels)\n",
    "    \n",
    "#     if batch_idx == 2:  # Print information for the first 3 batches\n",
    "#         break"
   ]
  },
  {
   "cell_type": "markdown",
   "metadata": {},
   "source": [
    "### Init Model"
   ]
  },
  {
   "cell_type": "code",
   "execution_count": 3,
   "metadata": {},
   "outputs": [
    {
     "name": "stderr",
     "output_type": "stream",
     "text": [
      "c:\\Users\\phamm\\.conda\\envs\\outfit_recommendation\\lib\\site-packages\\torchvision\\models\\_utils.py:208: UserWarning: The parameter 'pretrained' is deprecated since 0.13 and may be removed in the future, please use 'weights' instead.\n",
      "  warnings.warn(\n",
      "c:\\Users\\phamm\\.conda\\envs\\outfit_recommendation\\lib\\site-packages\\torchvision\\models\\_utils.py:223: UserWarning: Arguments other than a weight enum or `None` for 'weights' are deprecated since 0.13 and may be removed in the future. The current behavior is equivalent to passing `weights=ResNet18_Weights.IMAGENET1K_V1`. You can also use `weights=ResNet18_Weights.DEFAULT` to get the most up-to-date weights.\n",
      "  warnings.warn(msg)\n",
      "DEBUG:urllib3.connectionpool:Starting new HTTPS connection (1): huggingface.co:443\n",
      "DEBUG:urllib3.connectionpool:https://huggingface.co:443 \"HEAD /sentence-transformers/bert-base-nli-mean-tokens/resolve/main/tokenizer_config.json HTTP/1.1\" 200 0\n",
      "DEBUG:urllib3.connectionpool:https://huggingface.co:443 \"HEAD /sentence-transformers/bert-base-nli-mean-tokens/resolve/main/config.json HTTP/1.1\" 200 0\n",
      "c:\\Users\\phamm\\.conda\\envs\\outfit_recommendation\\lib\\site-packages\\torch\\nn\\modules\\transformer.py:282: UserWarning: enable_nested_tensor is True, but self.use_nested_tensor is False because encoder_layer.self_attn.batch_first was not True(use batch_first for better inference performance)\n",
      "  warnings.warn(f\"enable_nested_tensor is True, but self.use_nested_tensor is False because {why_not_sparsity_fast_path}\")\n"
     ]
    }
   ],
   "source": [
    "# Instantiate the model, dataset, and dataloader\n",
    "model = OutfitCompatibilityModel()\n",
    "focal_loss = nn.BCEWithLogitsLoss()\n",
    "optimizer = optim.Adam(model.parameters(), lr=1e-5)"
   ]
  },
  {
   "cell_type": "markdown",
   "metadata": {},
   "source": [
    "### Training"
   ]
  },
  {
   "cell_type": "code",
   "execution_count": 4,
   "metadata": {},
   "outputs": [
    {
     "name": "stderr",
     "output_type": "stream",
     "text": [
      "DEBUG:root:!!!!!!!!!!\n",
      "DEBUG:root:OutfitCompatibilityModel - START\n",
      "DEBUG:root:OutfitCompatibilityModel - intial images.shape: torch.Size([15, 5, 3, 224, 224])\n",
      "DEBUG:root:@@@@@@@@@@\n",
      "DEBUG:root:[START LOOP] OUTFIT - 0\n",
      "DEBUG:root:OutfitCompatibilityModel - outfit_images.shape: torch.Size([5, 3, 224, 224])\n",
      "DEBUG:root:##########\n",
      "DEBUG:root:[START LOOP] ITEM - 0\n",
      "DEBUG:root:OutfitCompatibilityModel - item_index: 0 - item_image.shape: torch.Size([1, 3, 224, 224]) item_text.shape: mock description 0\n"
     ]
    },
    {
     "name": "stdout",
     "output_type": "stream",
     "text": [
      "batch - images.shape: torch.Size([15, 5, 3, 224, 224])\n",
      "batch - texts: [['mock description 0', 'mock description 1', 'mock description 2', 'mock description 3', 'mock description 4'], ['mock description 0', 'mock description 1', 'mock description 2', 'mock description 3', 'mock description 4'], ['mock description 0', 'mock description 1', 'mock description 2', 'mock description 3', 'mock description 4'], ['mock description 0', 'mock description 1', 'mock description 2', 'mock description 3', 'mock description 4'], ['mock description 0', 'mock description 1', 'mock description 2', 'mock description 3', 'mock description 4'], ['mock description 0', 'mock description 1', 'mock description 2', 'mock description 3', 'mock description 4'], ['mock description 0', 'mock description 1', 'mock description 2', 'mock description 3', 'mock description 4'], ['mock description 0', 'mock description 1', 'mock description 2', 'mock description 3', 'mock description 4'], ['mock description 0', 'mock description 1', 'mock description 2', 'mock description 3', 'mock description 4'], ['mock description 0', 'mock description 1', 'mock description 2', 'mock description 3', 'mock description 4'], ['mock description 0', 'mock description 1', 'mock description 2', 'mock description 3', 'mock description 4'], ['mock description 0', 'mock description 1', 'mock description 2', 'mock description 3', 'mock description 4'], ['mock description 0', 'mock description 1', 'mock description 2', 'mock description 3', 'mock description 4'], ['mock description 0', 'mock description 1', 'mock description 2', 'mock description 3', 'mock description 4'], ['mock description 0', 'mock description 1', 'mock description 2', 'mock description 3', 'mock description 4']]\n",
      "batch - labels: tensor([1., 0., 0., 0., 0., 0., 0., 0., 0., 0., 1., 1., 0., 0., 1.])\n"
     ]
    },
    {
     "name": "stderr",
     "output_type": "stream",
     "text": [
      "DEBUG:root:ImageEncoder - after fc_layer x's shape: torch.Size([1, 64])\n",
      "DEBUG:root:----------\n"
     ]
    },
    {
     "name": "stdout",
     "output_type": "stream",
     "text": [
      "----------\n"
     ]
    },
    {
     "name": "stderr",
     "output_type": "stream",
     "text": [
      "DEBUG:root:OutfitCompatibilityModel - item_features.shape: torch.Size([1, 128])\n",
      "DEBUG:root:[END LOOP] ITEM - 0\n",
      "DEBUG:root:##########\n",
      "DEBUG:root:##########\n",
      "DEBUG:root:[START LOOP] ITEM - 1\n",
      "DEBUG:root:OutfitCompatibilityModel - item_index: 1 - item_image.shape: torch.Size([1, 3, 224, 224]) item_text.shape: mock description 1\n",
      "DEBUG:root:ImageEncoder - after fc_layer x's shape: torch.Size([1, 64])\n",
      "DEBUG:root:----------\n"
     ]
    },
    {
     "name": "stdout",
     "output_type": "stream",
     "text": [
      "TextEncoder - x's shape after fc_layer: torch.Size([1, 64])\n",
      "----------\n",
      "----------\n"
     ]
    },
    {
     "name": "stderr",
     "output_type": "stream",
     "text": [
      "DEBUG:root:OutfitCompatibilityModel - item_features.shape: torch.Size([1, 128])\n",
      "DEBUG:root:[END LOOP] ITEM - 1\n",
      "DEBUG:root:##########\n",
      "DEBUG:root:##########\n",
      "DEBUG:root:[START LOOP] ITEM - 2\n",
      "DEBUG:root:OutfitCompatibilityModel - item_index: 2 - item_image.shape: torch.Size([1, 3, 224, 224]) item_text.shape: mock description 2\n",
      "DEBUG:root:ImageEncoder - after fc_layer x's shape: torch.Size([1, 64])\n",
      "DEBUG:root:----------\n",
      "DEBUG:root:OutfitCompatibilityModel - item_features.shape: torch.Size([1, 128])\n",
      "DEBUG:root:[END LOOP] ITEM - 2\n",
      "DEBUG:root:##########\n",
      "DEBUG:root:##########\n",
      "DEBUG:root:[START LOOP] ITEM - 3\n",
      "DEBUG:root:OutfitCompatibilityModel - item_index: 3 - item_image.shape: torch.Size([1, 3, 224, 224]) item_text.shape: mock description 3\n"
     ]
    },
    {
     "name": "stdout",
     "output_type": "stream",
     "text": [
      "TextEncoder - x's shape after fc_layer: torch.Size([1, 64])\n",
      "----------\n",
      "----------\n",
      "TextEncoder - x's shape after fc_layer: torch.Size([1, 64])\n",
      "----------\n"
     ]
    },
    {
     "name": "stderr",
     "output_type": "stream",
     "text": [
      "DEBUG:root:ImageEncoder - after fc_layer x's shape: torch.Size([1, 64])\n",
      "DEBUG:root:----------\n",
      "DEBUG:root:OutfitCompatibilityModel - item_features.shape: torch.Size([1, 128])\n",
      "DEBUG:root:[END LOOP] ITEM - 3\n",
      "DEBUG:root:##########\n",
      "DEBUG:root:##########\n",
      "DEBUG:root:[START LOOP] ITEM - 4\n",
      "DEBUG:root:OutfitCompatibilityModel - item_index: 4 - item_image.shape: torch.Size([1, 3, 224, 224]) item_text.shape: mock description 4\n",
      "DEBUG:root:ImageEncoder - after fc_layer x's shape: torch.Size([1, 64])\n",
      "DEBUG:root:----------\n"
     ]
    },
    {
     "name": "stdout",
     "output_type": "stream",
     "text": [
      "----------\n",
      "TextEncoder - x's shape after fc_layer: torch.Size([1, 64])\n",
      "----------\n",
      "----------\n"
     ]
    },
    {
     "name": "stderr",
     "output_type": "stream",
     "text": [
      "DEBUG:root:OutfitCompatibilityModel - item_features.shape: torch.Size([1, 128])\n",
      "DEBUG:root:[END LOOP] ITEM - 4\n",
      "DEBUG:root:##########\n",
      "DEBUG:root:OutfitCompatibilityModel - curren outfit's feature vectors dimensions: 1 with lengths: [5]\n",
      "DEBUG:root:OutfitCompatibilityModel - CUR OUTFIT's feature vectors after stack: torch.Size([1, 5, 128])\n",
      "DEBUG:root:[END LOOP] OUTFIT - 0\n",
      "DEBUG:root:@@@@@@@@@@\n",
      "DEBUG:root:@@@@@@@@@@\n",
      "DEBUG:root:[START LOOP] OUTFIT - 1\n",
      "DEBUG:root:OutfitCompatibilityModel - outfit_images.shape: torch.Size([5, 3, 224, 224])\n",
      "DEBUG:root:##########\n",
      "DEBUG:root:[START LOOP] ITEM - 0\n",
      "DEBUG:root:OutfitCompatibilityModel - item_index: 0 - item_image.shape: torch.Size([1, 3, 224, 224]) item_text.shape: mock description 0\n",
      "DEBUG:root:ImageEncoder - after fc_layer x's shape: torch.Size([1, 64])\n",
      "DEBUG:root:----------\n",
      "DEBUG:root:OutfitCompatibilityModel - item_features.shape: torch.Size([1, 128])\n",
      "DEBUG:root:[END LOOP] ITEM - 0\n",
      "DEBUG:root:##########\n",
      "DEBUG:root:##########\n",
      "DEBUG:root:[START LOOP] ITEM - 1\n",
      "DEBUG:root:OutfitCompatibilityModel - item_index: 1 - item_image.shape: torch.Size([1, 3, 224, 224]) item_text.shape: mock description 1\n",
      "DEBUG:root:ImageEncoder - after fc_layer x's shape: torch.Size([1, 64])\n"
     ]
    },
    {
     "name": "stdout",
     "output_type": "stream",
     "text": [
      "TextEncoder - x's shape after fc_layer: torch.Size([1, 64])\n",
      "----------\n",
      "----------\n",
      "TextEncoder - x's shape after fc_layer: torch.Size([1, 64])\n",
      "----------\n"
     ]
    },
    {
     "name": "stderr",
     "output_type": "stream",
     "text": [
      "DEBUG:root:----------\n",
      "DEBUG:root:OutfitCompatibilityModel - item_features.shape: torch.Size([1, 128])\n",
      "DEBUG:root:[END LOOP] ITEM - 1\n",
      "DEBUG:root:##########\n",
      "DEBUG:root:##########\n",
      "DEBUG:root:[START LOOP] ITEM - 2\n",
      "DEBUG:root:OutfitCompatibilityModel - item_index: 2 - item_image.shape: torch.Size([1, 3, 224, 224]) item_text.shape: mock description 2\n",
      "DEBUG:root:ImageEncoder - after fc_layer x's shape: torch.Size([1, 64])\n",
      "DEBUG:root:----------\n"
     ]
    },
    {
     "name": "stdout",
     "output_type": "stream",
     "text": [
      "----------\n",
      "TextEncoder - x's shape after fc_layer: torch.Size([1, 64])\n",
      "----------\n",
      "----------\n"
     ]
    },
    {
     "name": "stderr",
     "output_type": "stream",
     "text": [
      "DEBUG:root:OutfitCompatibilityModel - item_features.shape: torch.Size([1, 128])\n",
      "DEBUG:root:[END LOOP] ITEM - 2\n",
      "DEBUG:root:##########\n",
      "DEBUG:root:##########\n",
      "DEBUG:root:[START LOOP] ITEM - 3\n",
      "DEBUG:root:OutfitCompatibilityModel - item_index: 3 - item_image.shape: torch.Size([1, 3, 224, 224]) item_text.shape: mock description 3\n",
      "DEBUG:root:ImageEncoder - after fc_layer x's shape: torch.Size([1, 64])\n",
      "DEBUG:root:----------\n"
     ]
    },
    {
     "name": "stdout",
     "output_type": "stream",
     "text": [
      "TextEncoder - x's shape after fc_layer: torch.Size([1, 64])\n",
      "----------\n",
      "----------\n"
     ]
    },
    {
     "name": "stderr",
     "output_type": "stream",
     "text": [
      "DEBUG:root:OutfitCompatibilityModel - item_features.shape: torch.Size([1, 128])\n",
      "DEBUG:root:[END LOOP] ITEM - 3\n",
      "DEBUG:root:##########\n",
      "DEBUG:root:##########\n",
      "DEBUG:root:[START LOOP] ITEM - 4\n",
      "DEBUG:root:OutfitCompatibilityModel - item_index: 4 - item_image.shape: torch.Size([1, 3, 224, 224]) item_text.shape: mock description 4\n",
      "DEBUG:root:ImageEncoder - after fc_layer x's shape: torch.Size([1, 64])\n",
      "DEBUG:root:----------\n",
      "DEBUG:root:OutfitCompatibilityModel - item_features.shape: torch.Size([1, 128])\n",
      "DEBUG:root:[END LOOP] ITEM - 4\n",
      "DEBUG:root:##########\n",
      "DEBUG:root:OutfitCompatibilityModel - curren outfit's feature vectors dimensions: 1 with lengths: [5]\n",
      "DEBUG:root:OutfitCompatibilityModel - CUR OUTFIT's feature vectors after stack: torch.Size([1, 5, 128])\n",
      "DEBUG:root:[END LOOP] OUTFIT - 1\n",
      "DEBUG:root:@@@@@@@@@@\n",
      "DEBUG:root:@@@@@@@@@@\n",
      "DEBUG:root:[START LOOP] OUTFIT - 2\n",
      "DEBUG:root:OutfitCompatibilityModel - outfit_images.shape: torch.Size([5, 3, 224, 224])\n",
      "DEBUG:root:##########\n",
      "DEBUG:root:[START LOOP] ITEM - 0\n",
      "DEBUG:root:OutfitCompatibilityModel - item_index: 0 - item_image.shape: torch.Size([1, 3, 224, 224]) item_text.shape: mock description 0\n"
     ]
    },
    {
     "name": "stdout",
     "output_type": "stream",
     "text": [
      "TextEncoder - x's shape after fc_layer: torch.Size([1, 64])\n",
      "----------\n",
      "----------\n",
      "TextEncoder - x's shape after fc_layer: torch.Size([1, 64])\n",
      "----------\n"
     ]
    },
    {
     "name": "stderr",
     "output_type": "stream",
     "text": [
      "DEBUG:root:ImageEncoder - after fc_layer x's shape: torch.Size([1, 64])\n",
      "DEBUG:root:----------\n",
      "DEBUG:root:OutfitCompatibilityModel - item_features.shape: torch.Size([1, 128])\n",
      "DEBUG:root:[END LOOP] ITEM - 0\n",
      "DEBUG:root:##########\n",
      "DEBUG:root:##########\n",
      "DEBUG:root:[START LOOP] ITEM - 1\n",
      "DEBUG:root:OutfitCompatibilityModel - item_index: 1 - item_image.shape: torch.Size([1, 3, 224, 224]) item_text.shape: mock description 1\n",
      "DEBUG:root:ImageEncoder - after fc_layer x's shape: torch.Size([1, 64])\n",
      "DEBUG:root:----------\n"
     ]
    },
    {
     "name": "stdout",
     "output_type": "stream",
     "text": [
      "----------\n",
      "TextEncoder - x's shape after fc_layer: torch.Size([1, 64])\n",
      "----------\n",
      "----------\n"
     ]
    },
    {
     "name": "stderr",
     "output_type": "stream",
     "text": [
      "DEBUG:root:OutfitCompatibilityModel - item_features.shape: torch.Size([1, 128])\n",
      "DEBUG:root:[END LOOP] ITEM - 1\n",
      "DEBUG:root:##########\n",
      "DEBUG:root:##########\n",
      "DEBUG:root:[START LOOP] ITEM - 2\n",
      "DEBUG:root:OutfitCompatibilityModel - item_index: 2 - item_image.shape: torch.Size([1, 3, 224, 224]) item_text.shape: mock description 2\n",
      "DEBUG:root:ImageEncoder - after fc_layer x's shape: torch.Size([1, 64])\n",
      "DEBUG:root:----------\n"
     ]
    },
    {
     "name": "stdout",
     "output_type": "stream",
     "text": [
      "TextEncoder - x's shape after fc_layer: torch.Size([1, 64])\n",
      "----------\n",
      "----------\n"
     ]
    },
    {
     "name": "stderr",
     "output_type": "stream",
     "text": [
      "DEBUG:root:OutfitCompatibilityModel - item_features.shape: torch.Size([1, 128])\n",
      "DEBUG:root:[END LOOP] ITEM - 2\n",
      "DEBUG:root:##########\n",
      "DEBUG:root:##########\n",
      "DEBUG:root:[START LOOP] ITEM - 3\n",
      "DEBUG:root:OutfitCompatibilityModel - item_index: 3 - item_image.shape: torch.Size([1, 3, 224, 224]) item_text.shape: mock description 3\n",
      "DEBUG:root:ImageEncoder - after fc_layer x's shape: torch.Size([1, 64])\n",
      "DEBUG:root:----------\n"
     ]
    },
    {
     "name": "stdout",
     "output_type": "stream",
     "text": [
      "TextEncoder - x's shape after fc_layer: torch.Size([1, 64])\n",
      "----------\n",
      "----------\n"
     ]
    },
    {
     "name": "stderr",
     "output_type": "stream",
     "text": [
      "DEBUG:root:OutfitCompatibilityModel - item_features.shape: torch.Size([1, 128])\n",
      "DEBUG:root:[END LOOP] ITEM - 3\n",
      "DEBUG:root:##########\n",
      "DEBUG:root:##########\n",
      "DEBUG:root:[START LOOP] ITEM - 4\n",
      "DEBUG:root:OutfitCompatibilityModel - item_index: 4 - item_image.shape: torch.Size([1, 3, 224, 224]) item_text.shape: mock description 4\n",
      "DEBUG:root:ImageEncoder - after fc_layer x's shape: torch.Size([1, 64])\n",
      "DEBUG:root:----------\n"
     ]
    },
    {
     "name": "stdout",
     "output_type": "stream",
     "text": [
      "TextEncoder - x's shape after fc_layer: torch.Size([1, 64])\n",
      "----------\n",
      "----------\n"
     ]
    },
    {
     "name": "stderr",
     "output_type": "stream",
     "text": [
      "DEBUG:root:OutfitCompatibilityModel - item_features.shape: torch.Size([1, 128])\n",
      "DEBUG:root:[END LOOP] ITEM - 4\n",
      "DEBUG:root:##########\n",
      "DEBUG:root:OutfitCompatibilityModel - curren outfit's feature vectors dimensions: 1 with lengths: [5]\n",
      "DEBUG:root:OutfitCompatibilityModel - CUR OUTFIT's feature vectors after stack: torch.Size([1, 5, 128])\n",
      "DEBUG:root:[END LOOP] OUTFIT - 2\n",
      "DEBUG:root:@@@@@@@@@@\n",
      "DEBUG:root:@@@@@@@@@@\n",
      "DEBUG:root:[START LOOP] OUTFIT - 3\n",
      "DEBUG:root:OutfitCompatibilityModel - outfit_images.shape: torch.Size([5, 3, 224, 224])\n",
      "DEBUG:root:##########\n",
      "DEBUG:root:[START LOOP] ITEM - 0\n",
      "DEBUG:root:OutfitCompatibilityModel - item_index: 0 - item_image.shape: torch.Size([1, 3, 224, 224]) item_text.shape: mock description 0\n",
      "DEBUG:root:ImageEncoder - after fc_layer x's shape: torch.Size([1, 64])\n",
      "DEBUG:root:----------\n"
     ]
    },
    {
     "name": "stdout",
     "output_type": "stream",
     "text": [
      "TextEncoder - x's shape after fc_layer: torch.Size([1, 64])\n",
      "----------\n",
      "----------\n"
     ]
    },
    {
     "name": "stderr",
     "output_type": "stream",
     "text": [
      "DEBUG:root:OutfitCompatibilityModel - item_features.shape: torch.Size([1, 128])\n",
      "DEBUG:root:[END LOOP] ITEM - 0\n",
      "DEBUG:root:##########\n",
      "DEBUG:root:##########\n",
      "DEBUG:root:[START LOOP] ITEM - 1\n",
      "DEBUG:root:OutfitCompatibilityModel - item_index: 1 - item_image.shape: torch.Size([1, 3, 224, 224]) item_text.shape: mock description 1\n",
      "DEBUG:root:ImageEncoder - after fc_layer x's shape: torch.Size([1, 64])\n",
      "DEBUG:root:----------\n",
      "DEBUG:root:OutfitCompatibilityModel - item_features.shape: torch.Size([1, 128])\n",
      "DEBUG:root:[END LOOP] ITEM - 1\n",
      "DEBUG:root:##########\n",
      "DEBUG:root:##########\n",
      "DEBUG:root:[START LOOP] ITEM - 2\n",
      "DEBUG:root:OutfitCompatibilityModel - item_index: 2 - item_image.shape: torch.Size([1, 3, 224, 224]) item_text.shape: mock description 2\n"
     ]
    },
    {
     "name": "stdout",
     "output_type": "stream",
     "text": [
      "TextEncoder - x's shape after fc_layer: torch.Size([1, 64])\n",
      "----------\n",
      "----------\n",
      "TextEncoder - x's shape after fc_layer: torch.Size([1, 64])\n",
      "----------\n"
     ]
    },
    {
     "name": "stderr",
     "output_type": "stream",
     "text": [
      "DEBUG:root:ImageEncoder - after fc_layer x's shape: torch.Size([1, 64])\n",
      "DEBUG:root:----------\n",
      "DEBUG:root:OutfitCompatibilityModel - item_features.shape: torch.Size([1, 128])\n",
      "DEBUG:root:[END LOOP] ITEM - 2\n",
      "DEBUG:root:##########\n",
      "DEBUG:root:##########\n",
      "DEBUG:root:[START LOOP] ITEM - 3\n",
      "DEBUG:root:OutfitCompatibilityModel - item_index: 3 - item_image.shape: torch.Size([1, 3, 224, 224]) item_text.shape: mock description 3\n",
      "DEBUG:root:ImageEncoder - after fc_layer x's shape: torch.Size([1, 64])\n",
      "DEBUG:root:----------\n"
     ]
    },
    {
     "name": "stdout",
     "output_type": "stream",
     "text": [
      "----------\n",
      "TextEncoder - x's shape after fc_layer: torch.Size([1, 64])\n",
      "----------\n",
      "----------\n"
     ]
    },
    {
     "name": "stderr",
     "output_type": "stream",
     "text": [
      "DEBUG:root:OutfitCompatibilityModel - item_features.shape: torch.Size([1, 128])\n",
      "DEBUG:root:[END LOOP] ITEM - 3\n",
      "DEBUG:root:##########\n",
      "DEBUG:root:##########\n",
      "DEBUG:root:[START LOOP] ITEM - 4\n",
      "DEBUG:root:OutfitCompatibilityModel - item_index: 4 - item_image.shape: torch.Size([1, 3, 224, 224]) item_text.shape: mock description 4\n",
      "DEBUG:root:ImageEncoder - after fc_layer x's shape: torch.Size([1, 64])\n",
      "DEBUG:root:----------\n",
      "DEBUG:root:OutfitCompatibilityModel - item_features.shape: torch.Size([1, 128])\n",
      "DEBUG:root:[END LOOP] ITEM - 4\n",
      "DEBUG:root:##########\n",
      "DEBUG:root:OutfitCompatibilityModel - curren outfit's feature vectors dimensions: 1 with lengths: [5]\n"
     ]
    },
    {
     "name": "stdout",
     "output_type": "stream",
     "text": [
      "TextEncoder - x's shape after fc_layer: torch.Size([1, 64])\n",
      "----------\n",
      "----------\n",
      "TextEncoder - x's shape after fc_layer: torch.Size([1, 64])\n",
      "----------\n"
     ]
    },
    {
     "name": "stderr",
     "output_type": "stream",
     "text": [
      "DEBUG:root:OutfitCompatibilityModel - CUR OUTFIT's feature vectors after stack: torch.Size([1, 5, 128])\n",
      "DEBUG:root:[END LOOP] OUTFIT - 3\n",
      "DEBUG:root:@@@@@@@@@@\n",
      "DEBUG:root:@@@@@@@@@@\n",
      "DEBUG:root:[START LOOP] OUTFIT - 4\n",
      "DEBUG:root:OutfitCompatibilityModel - outfit_images.shape: torch.Size([5, 3, 224, 224])\n",
      "DEBUG:root:##########\n",
      "DEBUG:root:[START LOOP] ITEM - 0\n",
      "DEBUG:root:OutfitCompatibilityModel - item_index: 0 - item_image.shape: torch.Size([1, 3, 224, 224]) item_text.shape: mock description 0\n",
      "DEBUG:root:ImageEncoder - after fc_layer x's shape: torch.Size([1, 64])\n",
      "DEBUG:root:----------\n",
      "DEBUG:root:OutfitCompatibilityModel - item_features.shape: torch.Size([1, 128])\n",
      "DEBUG:root:[END LOOP] ITEM - 0\n",
      "DEBUG:root:##########\n",
      "DEBUG:root:##########\n",
      "DEBUG:root:[START LOOP] ITEM - 1\n",
      "DEBUG:root:OutfitCompatibilityModel - item_index: 1 - item_image.shape: torch.Size([1, 3, 224, 224]) item_text.shape: mock description 1\n",
      "DEBUG:root:ImageEncoder - after fc_layer x's shape: torch.Size([1, 64])\n",
      "DEBUG:root:----------\n"
     ]
    },
    {
     "name": "stdout",
     "output_type": "stream",
     "text": [
      "----------\n",
      "TextEncoder - x's shape after fc_layer: torch.Size([1, 64])\n",
      "----------\n",
      "----------\n"
     ]
    },
    {
     "name": "stderr",
     "output_type": "stream",
     "text": [
      "DEBUG:root:OutfitCompatibilityModel - item_features.shape: torch.Size([1, 128])\n",
      "DEBUG:root:[END LOOP] ITEM - 1\n",
      "DEBUG:root:##########\n",
      "DEBUG:root:##########\n",
      "DEBUG:root:[START LOOP] ITEM - 2\n",
      "DEBUG:root:OutfitCompatibilityModel - item_index: 2 - item_image.shape: torch.Size([1, 3, 224, 224]) item_text.shape: mock description 2\n",
      "DEBUG:root:ImageEncoder - after fc_layer x's shape: torch.Size([1, 64])\n",
      "DEBUG:root:----------\n",
      "DEBUG:root:OutfitCompatibilityModel - item_features.shape: torch.Size([1, 128])\n",
      "DEBUG:root:[END LOOP] ITEM - 2\n",
      "DEBUG:root:##########\n",
      "DEBUG:root:##########\n",
      "DEBUG:root:[START LOOP] ITEM - 3\n",
      "DEBUG:root:OutfitCompatibilityModel - item_index: 3 - item_image.shape: torch.Size([1, 3, 224, 224]) item_text.shape: mock description 3\n"
     ]
    },
    {
     "name": "stdout",
     "output_type": "stream",
     "text": [
      "TextEncoder - x's shape after fc_layer: torch.Size([1, 64])\n",
      "----------\n",
      "----------\n",
      "TextEncoder - x's shape after fc_layer: torch.Size([1, 64])\n",
      "----------\n"
     ]
    },
    {
     "name": "stderr",
     "output_type": "stream",
     "text": [
      "DEBUG:root:ImageEncoder - after fc_layer x's shape: torch.Size([1, 64])\n",
      "DEBUG:root:----------\n",
      "DEBUG:root:OutfitCompatibilityModel - item_features.shape: torch.Size([1, 128])\n",
      "DEBUG:root:[END LOOP] ITEM - 3\n",
      "DEBUG:root:##########\n",
      "DEBUG:root:##########\n",
      "DEBUG:root:[START LOOP] ITEM - 4\n",
      "DEBUG:root:OutfitCompatibilityModel - item_index: 4 - item_image.shape: torch.Size([1, 3, 224, 224]) item_text.shape: mock description 4\n"
     ]
    },
    {
     "name": "stdout",
     "output_type": "stream",
     "text": [
      "----------\n",
      "TextEncoder - x's shape after fc_layer: torch.Size([1, 64])\n",
      "----------\n"
     ]
    },
    {
     "name": "stderr",
     "output_type": "stream",
     "text": [
      "DEBUG:root:ImageEncoder - after fc_layer x's shape: torch.Size([1, 64])\n",
      "DEBUG:root:----------\n",
      "DEBUG:root:OutfitCompatibilityModel - item_features.shape: torch.Size([1, 128])\n",
      "DEBUG:root:[END LOOP] ITEM - 4\n",
      "DEBUG:root:##########\n",
      "DEBUG:root:OutfitCompatibilityModel - curren outfit's feature vectors dimensions: 1 with lengths: [5]\n",
      "DEBUG:root:OutfitCompatibilityModel - CUR OUTFIT's feature vectors after stack: torch.Size([1, 5, 128])\n",
      "DEBUG:root:[END LOOP] OUTFIT - 4\n",
      "DEBUG:root:@@@@@@@@@@\n",
      "DEBUG:root:@@@@@@@@@@\n",
      "DEBUG:root:[START LOOP] OUTFIT - 5\n",
      "DEBUG:root:OutfitCompatibilityModel - outfit_images.shape: torch.Size([5, 3, 224, 224])\n",
      "DEBUG:root:##########\n",
      "DEBUG:root:[START LOOP] ITEM - 0\n",
      "DEBUG:root:OutfitCompatibilityModel - item_index: 0 - item_image.shape: torch.Size([1, 3, 224, 224]) item_text.shape: mock description 0\n",
      "DEBUG:root:ImageEncoder - after fc_layer x's shape: torch.Size([1, 64])\n",
      "DEBUG:root:----------\n"
     ]
    },
    {
     "name": "stdout",
     "output_type": "stream",
     "text": [
      "----------\n",
      "TextEncoder - x's shape after fc_layer: torch.Size([1, 64])\n",
      "----------\n"
     ]
    },
    {
     "name": "stderr",
     "output_type": "stream",
     "text": [
      "DEBUG:root:OutfitCompatibilityModel - item_features.shape: torch.Size([1, 128])\n",
      "DEBUG:root:[END LOOP] ITEM - 0\n",
      "DEBUG:root:##########\n",
      "DEBUG:root:##########\n",
      "DEBUG:root:[START LOOP] ITEM - 1\n",
      "DEBUG:root:OutfitCompatibilityModel - item_index: 1 - item_image.shape: torch.Size([1, 3, 224, 224]) item_text.shape: mock description 1\n"
     ]
    },
    {
     "name": "stdout",
     "output_type": "stream",
     "text": [
      "----------\n",
      "TextEncoder - x's shape after fc_layer: torch.Size([1, 64])\n",
      "----------\n"
     ]
    },
    {
     "name": "stderr",
     "output_type": "stream",
     "text": [
      "DEBUG:root:ImageEncoder - after fc_layer x's shape: torch.Size([1, 64])\n",
      "DEBUG:root:----------\n",
      "DEBUG:root:OutfitCompatibilityModel - item_features.shape: torch.Size([1, 128])\n",
      "DEBUG:root:[END LOOP] ITEM - 1\n",
      "DEBUG:root:##########\n",
      "DEBUG:root:##########\n",
      "DEBUG:root:[START LOOP] ITEM - 2\n",
      "DEBUG:root:OutfitCompatibilityModel - item_index: 2 - item_image.shape: torch.Size([1, 3, 224, 224]) item_text.shape: mock description 2\n",
      "DEBUG:root:ImageEncoder - after fc_layer x's shape: torch.Size([1, 64])\n"
     ]
    },
    {
     "name": "stdout",
     "output_type": "stream",
     "text": [
      "----------\n",
      "TextEncoder - x's shape after fc_layer: torch.Size([1, 64])\n",
      "----------\n"
     ]
    },
    {
     "name": "stderr",
     "output_type": "stream",
     "text": [
      "DEBUG:root:----------\n",
      "DEBUG:root:OutfitCompatibilityModel - item_features.shape: torch.Size([1, 128])\n",
      "DEBUG:root:[END LOOP] ITEM - 2\n",
      "DEBUG:root:##########\n",
      "DEBUG:root:##########\n",
      "DEBUG:root:[START LOOP] ITEM - 3\n",
      "DEBUG:root:OutfitCompatibilityModel - item_index: 3 - item_image.shape: torch.Size([1, 3, 224, 224]) item_text.shape: mock description 3\n",
      "DEBUG:root:ImageEncoder - after fc_layer x's shape: torch.Size([1, 64])\n",
      "DEBUG:root:----------\n"
     ]
    },
    {
     "name": "stdout",
     "output_type": "stream",
     "text": [
      "----------\n",
      "TextEncoder - x's shape after fc_layer: torch.Size([1, 64])\n",
      "----------\n",
      "----------\n"
     ]
    },
    {
     "name": "stderr",
     "output_type": "stream",
     "text": [
      "DEBUG:root:OutfitCompatibilityModel - item_features.shape: torch.Size([1, 128])\n",
      "DEBUG:root:[END LOOP] ITEM - 3\n",
      "DEBUG:root:##########\n",
      "DEBUG:root:##########\n",
      "DEBUG:root:[START LOOP] ITEM - 4\n",
      "DEBUG:root:OutfitCompatibilityModel - item_index: 4 - item_image.shape: torch.Size([1, 3, 224, 224]) item_text.shape: mock description 4\n",
      "DEBUG:root:ImageEncoder - after fc_layer x's shape: torch.Size([1, 64])\n",
      "DEBUG:root:----------\n"
     ]
    },
    {
     "name": "stdout",
     "output_type": "stream",
     "text": [
      "TextEncoder - x's shape after fc_layer: torch.Size([1, 64])\n",
      "----------\n",
      "----------\n"
     ]
    },
    {
     "name": "stderr",
     "output_type": "stream",
     "text": [
      "DEBUG:root:OutfitCompatibilityModel - item_features.shape: torch.Size([1, 128])\n",
      "DEBUG:root:[END LOOP] ITEM - 4\n",
      "DEBUG:root:##########\n",
      "DEBUG:root:OutfitCompatibilityModel - curren outfit's feature vectors dimensions: 1 with lengths: [5]\n",
      "DEBUG:root:OutfitCompatibilityModel - CUR OUTFIT's feature vectors after stack: torch.Size([1, 5, 128])\n",
      "DEBUG:root:[END LOOP] OUTFIT - 5\n",
      "DEBUG:root:@@@@@@@@@@\n",
      "DEBUG:root:@@@@@@@@@@\n",
      "DEBUG:root:[START LOOP] OUTFIT - 6\n",
      "DEBUG:root:OutfitCompatibilityModel - outfit_images.shape: torch.Size([5, 3, 224, 224])\n",
      "DEBUG:root:##########\n",
      "DEBUG:root:[START LOOP] ITEM - 0\n",
      "DEBUG:root:OutfitCompatibilityModel - item_index: 0 - item_image.shape: torch.Size([1, 3, 224, 224]) item_text.shape: mock description 0\n",
      "DEBUG:root:ImageEncoder - after fc_layer x's shape: torch.Size([1, 64])\n"
     ]
    },
    {
     "name": "stdout",
     "output_type": "stream",
     "text": [
      "TextEncoder - x's shape after fc_layer: torch.Size([1, 64])\n",
      "----------\n"
     ]
    },
    {
     "name": "stderr",
     "output_type": "stream",
     "text": [
      "DEBUG:root:----------\n",
      "DEBUG:root:OutfitCompatibilityModel - item_features.shape: torch.Size([1, 128])\n",
      "DEBUG:root:[END LOOP] ITEM - 0\n",
      "DEBUG:root:##########\n",
      "DEBUG:root:##########\n",
      "DEBUG:root:[START LOOP] ITEM - 1\n",
      "DEBUG:root:OutfitCompatibilityModel - item_index: 1 - item_image.shape: torch.Size([1, 3, 224, 224]) item_text.shape: mock description 1\n"
     ]
    },
    {
     "name": "stdout",
     "output_type": "stream",
     "text": [
      "----------\n",
      "TextEncoder - x's shape after fc_layer: torch.Size([1, 64])\n",
      "----------\n"
     ]
    },
    {
     "name": "stderr",
     "output_type": "stream",
     "text": [
      "DEBUG:root:ImageEncoder - after fc_layer x's shape: torch.Size([1, 64])\n",
      "DEBUG:root:----------\n",
      "DEBUG:root:OutfitCompatibilityModel - item_features.shape: torch.Size([1, 128])\n",
      "DEBUG:root:[END LOOP] ITEM - 1\n",
      "DEBUG:root:##########\n",
      "DEBUG:root:##########\n",
      "DEBUG:root:[START LOOP] ITEM - 2\n",
      "DEBUG:root:OutfitCompatibilityModel - item_index: 2 - item_image.shape: torch.Size([1, 3, 224, 224]) item_text.shape: mock description 2\n"
     ]
    },
    {
     "name": "stdout",
     "output_type": "stream",
     "text": [
      "----------\n",
      "TextEncoder - x's shape after fc_layer: torch.Size([1, 64])\n",
      "----------\n"
     ]
    },
    {
     "name": "stderr",
     "output_type": "stream",
     "text": [
      "DEBUG:root:ImageEncoder - after fc_layer x's shape: torch.Size([1, 64])\n",
      "DEBUG:root:----------\n",
      "DEBUG:root:OutfitCompatibilityModel - item_features.shape: torch.Size([1, 128])\n",
      "DEBUG:root:[END LOOP] ITEM - 2\n",
      "DEBUG:root:##########\n",
      "DEBUG:root:##########\n",
      "DEBUG:root:[START LOOP] ITEM - 3\n",
      "DEBUG:root:OutfitCompatibilityModel - item_index: 3 - item_image.shape: torch.Size([1, 3, 224, 224]) item_text.shape: mock description 3\n"
     ]
    },
    {
     "name": "stdout",
     "output_type": "stream",
     "text": [
      "----------\n",
      "TextEncoder - x's shape after fc_layer: torch.Size([1, 64])\n",
      "----------\n"
     ]
    },
    {
     "name": "stderr",
     "output_type": "stream",
     "text": [
      "DEBUG:root:ImageEncoder - after fc_layer x's shape: torch.Size([1, 64])\n",
      "DEBUG:root:----------\n",
      "DEBUG:root:OutfitCompatibilityModel - item_features.shape: torch.Size([1, 128])\n",
      "DEBUG:root:[END LOOP] ITEM - 3\n",
      "DEBUG:root:##########\n",
      "DEBUG:root:##########\n",
      "DEBUG:root:[START LOOP] ITEM - 4\n",
      "DEBUG:root:OutfitCompatibilityModel - item_index: 4 - item_image.shape: torch.Size([1, 3, 224, 224]) item_text.shape: mock description 4\n"
     ]
    },
    {
     "name": "stdout",
     "output_type": "stream",
     "text": [
      "----------\n",
      "TextEncoder - x's shape after fc_layer: torch.Size([1, 64])\n",
      "----------\n"
     ]
    },
    {
     "name": "stderr",
     "output_type": "stream",
     "text": [
      "DEBUG:root:ImageEncoder - after fc_layer x's shape: torch.Size([1, 64])\n",
      "DEBUG:root:----------\n",
      "DEBUG:root:OutfitCompatibilityModel - item_features.shape: torch.Size([1, 128])\n",
      "DEBUG:root:[END LOOP] ITEM - 4\n",
      "DEBUG:root:##########\n",
      "DEBUG:root:OutfitCompatibilityModel - curren outfit's feature vectors dimensions: 1 with lengths: [5]\n",
      "DEBUG:root:OutfitCompatibilityModel - CUR OUTFIT's feature vectors after stack: torch.Size([1, 5, 128])\n",
      "DEBUG:root:[END LOOP] OUTFIT - 6\n",
      "DEBUG:root:@@@@@@@@@@\n",
      "DEBUG:root:@@@@@@@@@@\n",
      "DEBUG:root:[START LOOP] OUTFIT - 7\n",
      "DEBUG:root:OutfitCompatibilityModel - outfit_images.shape: torch.Size([5, 3, 224, 224])\n",
      "DEBUG:root:##########\n",
      "DEBUG:root:[START LOOP] ITEM - 0\n",
      "DEBUG:root:OutfitCompatibilityModel - item_index: 0 - item_image.shape: torch.Size([1, 3, 224, 224]) item_text.shape: mock description 0\n"
     ]
    },
    {
     "name": "stdout",
     "output_type": "stream",
     "text": [
      "----------\n",
      "TextEncoder - x's shape after fc_layer: torch.Size([1, 64])\n",
      "----------\n"
     ]
    },
    {
     "name": "stderr",
     "output_type": "stream",
     "text": [
      "DEBUG:root:ImageEncoder - after fc_layer x's shape: torch.Size([1, 64])\n",
      "DEBUG:root:----------\n",
      "DEBUG:root:OutfitCompatibilityModel - item_features.shape: torch.Size([1, 128])\n",
      "DEBUG:root:[END LOOP] ITEM - 0\n",
      "DEBUG:root:##########\n",
      "DEBUG:root:##########\n",
      "DEBUG:root:[START LOOP] ITEM - 1\n",
      "DEBUG:root:OutfitCompatibilityModel - item_index: 1 - item_image.shape: torch.Size([1, 3, 224, 224]) item_text.shape: mock description 1\n"
     ]
    },
    {
     "name": "stdout",
     "output_type": "stream",
     "text": [
      "----------\n",
      "TextEncoder - x's shape after fc_layer: torch.Size([1, 64])\n",
      "----------\n"
     ]
    },
    {
     "name": "stderr",
     "output_type": "stream",
     "text": [
      "DEBUG:root:ImageEncoder - after fc_layer x's shape: torch.Size([1, 64])\n",
      "DEBUG:root:----------\n",
      "DEBUG:root:OutfitCompatibilityModel - item_features.shape: torch.Size([1, 128])\n",
      "DEBUG:root:[END LOOP] ITEM - 1\n",
      "DEBUG:root:##########\n",
      "DEBUG:root:##########\n",
      "DEBUG:root:[START LOOP] ITEM - 2\n",
      "DEBUG:root:OutfitCompatibilityModel - item_index: 2 - item_image.shape: torch.Size([1, 3, 224, 224]) item_text.shape: mock description 2\n"
     ]
    },
    {
     "name": "stdout",
     "output_type": "stream",
     "text": [
      "----------\n",
      "TextEncoder - x's shape after fc_layer: torch.Size([1, 64])\n",
      "----------\n"
     ]
    },
    {
     "name": "stderr",
     "output_type": "stream",
     "text": [
      "DEBUG:root:ImageEncoder - after fc_layer x's shape: torch.Size([1, 64])\n",
      "DEBUG:root:----------\n",
      "DEBUG:root:OutfitCompatibilityModel - item_features.shape: torch.Size([1, 128])\n",
      "DEBUG:root:[END LOOP] ITEM - 2\n",
      "DEBUG:root:##########\n",
      "DEBUG:root:##########\n",
      "DEBUG:root:[START LOOP] ITEM - 3\n",
      "DEBUG:root:OutfitCompatibilityModel - item_index: 3 - item_image.shape: torch.Size([1, 3, 224, 224]) item_text.shape: mock description 3\n"
     ]
    },
    {
     "name": "stdout",
     "output_type": "stream",
     "text": [
      "----------\n",
      "TextEncoder - x's shape after fc_layer: torch.Size([1, 64])\n",
      "----------\n"
     ]
    },
    {
     "name": "stderr",
     "output_type": "stream",
     "text": [
      "DEBUG:root:ImageEncoder - after fc_layer x's shape: torch.Size([1, 64])\n",
      "DEBUG:root:----------\n",
      "DEBUG:root:OutfitCompatibilityModel - item_features.shape: torch.Size([1, 128])\n",
      "DEBUG:root:[END LOOP] ITEM - 3\n",
      "DEBUG:root:##########\n",
      "DEBUG:root:##########\n",
      "DEBUG:root:[START LOOP] ITEM - 4\n",
      "DEBUG:root:OutfitCompatibilityModel - item_index: 4 - item_image.shape: torch.Size([1, 3, 224, 224]) item_text.shape: mock description 4\n"
     ]
    },
    {
     "name": "stdout",
     "output_type": "stream",
     "text": [
      "----------\n",
      "TextEncoder - x's shape after fc_layer: torch.Size([1, 64])\n",
      "----------\n"
     ]
    },
    {
     "name": "stderr",
     "output_type": "stream",
     "text": [
      "DEBUG:root:ImageEncoder - after fc_layer x's shape: torch.Size([1, 64])\n",
      "DEBUG:root:----------\n",
      "DEBUG:root:OutfitCompatibilityModel - item_features.shape: torch.Size([1, 128])\n",
      "DEBUG:root:[END LOOP] ITEM - 4\n",
      "DEBUG:root:##########\n",
      "DEBUG:root:OutfitCompatibilityModel - curren outfit's feature vectors dimensions: 1 with lengths: [5]\n",
      "DEBUG:root:OutfitCompatibilityModel - CUR OUTFIT's feature vectors after stack: torch.Size([1, 5, 128])\n",
      "DEBUG:root:[END LOOP] OUTFIT - 7\n",
      "DEBUG:root:@@@@@@@@@@\n",
      "DEBUG:root:@@@@@@@@@@\n",
      "DEBUG:root:[START LOOP] OUTFIT - 8\n",
      "DEBUG:root:OutfitCompatibilityModel - outfit_images.shape: torch.Size([5, 3, 224, 224])\n",
      "DEBUG:root:##########\n",
      "DEBUG:root:[START LOOP] ITEM - 0\n",
      "DEBUG:root:OutfitCompatibilityModel - item_index: 0 - item_image.shape: torch.Size([1, 3, 224, 224]) item_text.shape: mock description 0\n"
     ]
    },
    {
     "name": "stdout",
     "output_type": "stream",
     "text": [
      "----------\n",
      "TextEncoder - x's shape after fc_layer: torch.Size([1, 64])\n",
      "----------\n"
     ]
    },
    {
     "name": "stderr",
     "output_type": "stream",
     "text": [
      "DEBUG:root:ImageEncoder - after fc_layer x's shape: torch.Size([1, 64])\n",
      "DEBUG:root:----------\n",
      "DEBUG:root:OutfitCompatibilityModel - item_features.shape: torch.Size([1, 128])\n",
      "DEBUG:root:[END LOOP] ITEM - 0\n",
      "DEBUG:root:##########\n",
      "DEBUG:root:##########\n",
      "DEBUG:root:[START LOOP] ITEM - 1\n",
      "DEBUG:root:OutfitCompatibilityModel - item_index: 1 - item_image.shape: torch.Size([1, 3, 224, 224]) item_text.shape: mock description 1\n",
      "DEBUG:root:ImageEncoder - after fc_layer x's shape: torch.Size([1, 64])\n"
     ]
    },
    {
     "name": "stdout",
     "output_type": "stream",
     "text": [
      "----------\n",
      "TextEncoder - x's shape after fc_layer: torch.Size([1, 64])\n",
      "----------\n"
     ]
    },
    {
     "name": "stderr",
     "output_type": "stream",
     "text": [
      "DEBUG:root:----------\n",
      "DEBUG:root:OutfitCompatibilityModel - item_features.shape: torch.Size([1, 128])\n",
      "DEBUG:root:[END LOOP] ITEM - 1\n",
      "DEBUG:root:##########\n",
      "DEBUG:root:##########\n",
      "DEBUG:root:[START LOOP] ITEM - 2\n",
      "DEBUG:root:OutfitCompatibilityModel - item_index: 2 - item_image.shape: torch.Size([1, 3, 224, 224]) item_text.shape: mock description 2\n"
     ]
    },
    {
     "name": "stdout",
     "output_type": "stream",
     "text": [
      "----------\n",
      "TextEncoder - x's shape after fc_layer: torch.Size([1, 64])\n",
      "----------\n"
     ]
    },
    {
     "name": "stderr",
     "output_type": "stream",
     "text": [
      "DEBUG:root:ImageEncoder - after fc_layer x's shape: torch.Size([1, 64])\n",
      "DEBUG:root:----------\n",
      "DEBUG:root:OutfitCompatibilityModel - item_features.shape: torch.Size([1, 128])\n"
     ]
    },
    {
     "name": "stdout",
     "output_type": "stream",
     "text": [
      "----------\n",
      "TextEncoder - x's shape after fc_layer: torch.Size([1, 64])\n",
      "----------\n"
     ]
    },
    {
     "name": "stderr",
     "output_type": "stream",
     "text": [
      "DEBUG:root:[END LOOP] ITEM - 2\n",
      "DEBUG:root:##########\n",
      "DEBUG:root:##########\n",
      "DEBUG:root:[START LOOP] ITEM - 3\n",
      "DEBUG:root:OutfitCompatibilityModel - item_index: 3 - item_image.shape: torch.Size([1, 3, 224, 224]) item_text.shape: mock description 3\n",
      "DEBUG:root:ImageEncoder - after fc_layer x's shape: torch.Size([1, 64])\n",
      "DEBUG:root:----------\n",
      "DEBUG:root:OutfitCompatibilityModel - item_features.shape: torch.Size([1, 128])\n",
      "DEBUG:root:[END LOOP] ITEM - 3\n",
      "DEBUG:root:##########\n",
      "DEBUG:root:##########\n",
      "DEBUG:root:[START LOOP] ITEM - 4\n",
      "DEBUG:root:OutfitCompatibilityModel - item_index: 4 - item_image.shape: torch.Size([1, 3, 224, 224]) item_text.shape: mock description 4\n",
      "DEBUG:root:ImageEncoder - after fc_layer x's shape: torch.Size([1, 64])\n"
     ]
    },
    {
     "name": "stdout",
     "output_type": "stream",
     "text": [
      "----------\n",
      "TextEncoder - x's shape after fc_layer: torch.Size([1, 64])\n",
      "----------\n"
     ]
    },
    {
     "name": "stderr",
     "output_type": "stream",
     "text": [
      "DEBUG:root:----------\n",
      "DEBUG:root:OutfitCompatibilityModel - item_features.shape: torch.Size([1, 128])\n",
      "DEBUG:root:[END LOOP] ITEM - 4\n",
      "DEBUG:root:##########\n",
      "DEBUG:root:OutfitCompatibilityModel - curren outfit's feature vectors dimensions: 1 with lengths: [5]\n",
      "DEBUG:root:OutfitCompatibilityModel - CUR OUTFIT's feature vectors after stack: torch.Size([1, 5, 128])\n",
      "DEBUG:root:[END LOOP] OUTFIT - 8\n",
      "DEBUG:root:@@@@@@@@@@\n",
      "DEBUG:root:@@@@@@@@@@\n",
      "DEBUG:root:[START LOOP] OUTFIT - 9\n",
      "DEBUG:root:OutfitCompatibilityModel - outfit_images.shape: torch.Size([5, 3, 224, 224])\n",
      "DEBUG:root:##########\n",
      "DEBUG:root:[START LOOP] ITEM - 0\n",
      "DEBUG:root:OutfitCompatibilityModel - item_index: 0 - item_image.shape: torch.Size([1, 3, 224, 224]) item_text.shape: mock description 0\n"
     ]
    },
    {
     "name": "stdout",
     "output_type": "stream",
     "text": [
      "----------\n",
      "TextEncoder - x's shape after fc_layer: torch.Size([1, 64])\n",
      "----------\n"
     ]
    },
    {
     "name": "stderr",
     "output_type": "stream",
     "text": [
      "DEBUG:root:ImageEncoder - after fc_layer x's shape: torch.Size([1, 64])\n",
      "DEBUG:root:----------\n"
     ]
    },
    {
     "name": "stdout",
     "output_type": "stream",
     "text": [
      "----------\n"
     ]
    },
    {
     "name": "stderr",
     "output_type": "stream",
     "text": [
      "DEBUG:root:OutfitCompatibilityModel - item_features.shape: torch.Size([1, 128])\n",
      "DEBUG:root:[END LOOP] ITEM - 0\n",
      "DEBUG:root:##########\n",
      "DEBUG:root:##########\n",
      "DEBUG:root:[START LOOP] ITEM - 1\n",
      "DEBUG:root:OutfitCompatibilityModel - item_index: 1 - item_image.shape: torch.Size([1, 3, 224, 224]) item_text.shape: mock description 1\n"
     ]
    },
    {
     "name": "stdout",
     "output_type": "stream",
     "text": [
      "TextEncoder - x's shape after fc_layer: torch.Size([1, 64])\n",
      "----------\n"
     ]
    },
    {
     "name": "stderr",
     "output_type": "stream",
     "text": [
      "DEBUG:root:ImageEncoder - after fc_layer x's shape: torch.Size([1, 64])\n",
      "DEBUG:root:----------\n",
      "DEBUG:root:OutfitCompatibilityModel - item_features.shape: torch.Size([1, 128])\n",
      "DEBUG:root:[END LOOP] ITEM - 1\n",
      "DEBUG:root:##########\n",
      "DEBUG:root:##########\n",
      "DEBUG:root:[START LOOP] ITEM - 2\n",
      "DEBUG:root:OutfitCompatibilityModel - item_index: 2 - item_image.shape: torch.Size([1, 3, 224, 224]) item_text.shape: mock description 2\n"
     ]
    },
    {
     "name": "stdout",
     "output_type": "stream",
     "text": [
      "----------\n",
      "TextEncoder - x's shape after fc_layer: torch.Size([1, 64])\n",
      "----------\n"
     ]
    },
    {
     "name": "stderr",
     "output_type": "stream",
     "text": [
      "DEBUG:root:ImageEncoder - after fc_layer x's shape: torch.Size([1, 64])\n",
      "DEBUG:root:----------\n"
     ]
    },
    {
     "name": "stdout",
     "output_type": "stream",
     "text": [
      "----------\n"
     ]
    },
    {
     "name": "stderr",
     "output_type": "stream",
     "text": [
      "DEBUG:root:OutfitCompatibilityModel - item_features.shape: torch.Size([1, 128])\n",
      "DEBUG:root:[END LOOP] ITEM - 2\n",
      "DEBUG:root:##########\n",
      "DEBUG:root:##########\n",
      "DEBUG:root:[START LOOP] ITEM - 3\n",
      "DEBUG:root:OutfitCompatibilityModel - item_index: 3 - item_image.shape: torch.Size([1, 3, 224, 224]) item_text.shape: mock description 3\n",
      "DEBUG:root:ImageEncoder - after fc_layer x's shape: torch.Size([1, 64])\n",
      "DEBUG:root:----------\n"
     ]
    },
    {
     "name": "stdout",
     "output_type": "stream",
     "text": [
      "TextEncoder - x's shape after fc_layer: torch.Size([1, 64])\n",
      "----------\n",
      "----------\n"
     ]
    },
    {
     "name": "stderr",
     "output_type": "stream",
     "text": [
      "DEBUG:root:OutfitCompatibilityModel - item_features.shape: torch.Size([1, 128])\n",
      "DEBUG:root:[END LOOP] ITEM - 3\n",
      "DEBUG:root:##########\n",
      "DEBUG:root:##########\n",
      "DEBUG:root:[START LOOP] ITEM - 4\n",
      "DEBUG:root:OutfitCompatibilityModel - item_index: 4 - item_image.shape: torch.Size([1, 3, 224, 224]) item_text.shape: mock description 4\n",
      "DEBUG:root:ImageEncoder - after fc_layer x's shape: torch.Size([1, 64])\n",
      "DEBUG:root:----------\n"
     ]
    },
    {
     "name": "stdout",
     "output_type": "stream",
     "text": [
      "TextEncoder - x's shape after fc_layer: torch.Size([1, 64])\n",
      "----------\n",
      "----------\n"
     ]
    },
    {
     "name": "stderr",
     "output_type": "stream",
     "text": [
      "DEBUG:root:OutfitCompatibilityModel - item_features.shape: torch.Size([1, 128])\n",
      "DEBUG:root:[END LOOP] ITEM - 4\n",
      "DEBUG:root:##########\n",
      "DEBUG:root:OutfitCompatibilityModel - curren outfit's feature vectors dimensions: 1 with lengths: [5]\n",
      "DEBUG:root:OutfitCompatibilityModel - CUR OUTFIT's feature vectors after stack: torch.Size([1, 5, 128])\n",
      "DEBUG:root:[END LOOP] OUTFIT - 9\n",
      "DEBUG:root:@@@@@@@@@@\n",
      "DEBUG:root:@@@@@@@@@@\n",
      "DEBUG:root:[START LOOP] OUTFIT - 10\n",
      "DEBUG:root:OutfitCompatibilityModel - outfit_images.shape: torch.Size([5, 3, 224, 224])\n",
      "DEBUG:root:##########\n",
      "DEBUG:root:[START LOOP] ITEM - 0\n",
      "DEBUG:root:OutfitCompatibilityModel - item_index: 0 - item_image.shape: torch.Size([1, 3, 224, 224]) item_text.shape: mock description 0\n",
      "DEBUG:root:ImageEncoder - after fc_layer x's shape: torch.Size([1, 64])\n",
      "DEBUG:root:----------\n"
     ]
    },
    {
     "name": "stdout",
     "output_type": "stream",
     "text": [
      "TextEncoder - x's shape after fc_layer: torch.Size([1, 64])\n",
      "----------\n",
      "----------\n"
     ]
    },
    {
     "name": "stderr",
     "output_type": "stream",
     "text": [
      "DEBUG:root:OutfitCompatibilityModel - item_features.shape: torch.Size([1, 128])\n",
      "DEBUG:root:[END LOOP] ITEM - 0\n",
      "DEBUG:root:##########\n",
      "DEBUG:root:##########\n",
      "DEBUG:root:[START LOOP] ITEM - 1\n",
      "DEBUG:root:OutfitCompatibilityModel - item_index: 1 - item_image.shape: torch.Size([1, 3, 224, 224]) item_text.shape: mock description 1\n"
     ]
    },
    {
     "name": "stdout",
     "output_type": "stream",
     "text": [
      "TextEncoder - x's shape after fc_layer: torch.Size([1, 64])\n",
      "----------\n"
     ]
    },
    {
     "name": "stderr",
     "output_type": "stream",
     "text": [
      "DEBUG:root:ImageEncoder - after fc_layer x's shape: torch.Size([1, 64])\n",
      "DEBUG:root:----------\n",
      "DEBUG:root:OutfitCompatibilityModel - item_features.shape: torch.Size([1, 128])\n",
      "DEBUG:root:[END LOOP] ITEM - 1\n",
      "DEBUG:root:##########\n",
      "DEBUG:root:##########\n",
      "DEBUG:root:[START LOOP] ITEM - 2\n",
      "DEBUG:root:OutfitCompatibilityModel - item_index: 2 - item_image.shape: torch.Size([1, 3, 224, 224]) item_text.shape: mock description 2\n"
     ]
    },
    {
     "name": "stdout",
     "output_type": "stream",
     "text": [
      "----------\n",
      "TextEncoder - x's shape after fc_layer: torch.Size([1, 64])\n",
      "----------\n"
     ]
    },
    {
     "name": "stderr",
     "output_type": "stream",
     "text": [
      "DEBUG:root:ImageEncoder - after fc_layer x's shape: torch.Size([1, 64])\n",
      "DEBUG:root:----------\n"
     ]
    },
    {
     "name": "stdout",
     "output_type": "stream",
     "text": [
      "----------\n"
     ]
    },
    {
     "name": "stderr",
     "output_type": "stream",
     "text": [
      "DEBUG:root:OutfitCompatibilityModel - item_features.shape: torch.Size([1, 128])\n",
      "DEBUG:root:[END LOOP] ITEM - 2\n",
      "DEBUG:root:##########\n",
      "DEBUG:root:##########\n",
      "DEBUG:root:[START LOOP] ITEM - 3\n",
      "DEBUG:root:OutfitCompatibilityModel - item_index: 3 - item_image.shape: torch.Size([1, 3, 224, 224]) item_text.shape: mock description 3\n",
      "DEBUG:root:ImageEncoder - after fc_layer x's shape: torch.Size([1, 64])\n",
      "DEBUG:root:----------\n"
     ]
    },
    {
     "name": "stdout",
     "output_type": "stream",
     "text": [
      "TextEncoder - x's shape after fc_layer: torch.Size([1, 64])\n",
      "----------\n",
      "----------\n"
     ]
    },
    {
     "name": "stderr",
     "output_type": "stream",
     "text": [
      "DEBUG:root:OutfitCompatibilityModel - item_features.shape: torch.Size([1, 128])\n",
      "DEBUG:root:[END LOOP] ITEM - 3\n",
      "DEBUG:root:##########\n",
      "DEBUG:root:##########\n",
      "DEBUG:root:[START LOOP] ITEM - 4\n",
      "DEBUG:root:OutfitCompatibilityModel - item_index: 4 - item_image.shape: torch.Size([1, 3, 224, 224]) item_text.shape: mock description 4\n",
      "DEBUG:root:ImageEncoder - after fc_layer x's shape: torch.Size([1, 64])\n",
      "DEBUG:root:----------\n"
     ]
    },
    {
     "name": "stdout",
     "output_type": "stream",
     "text": [
      "TextEncoder - x's shape after fc_layer: torch.Size([1, 64])\n",
      "----------\n",
      "----------\n"
     ]
    },
    {
     "name": "stderr",
     "output_type": "stream",
     "text": [
      "DEBUG:root:OutfitCompatibilityModel - item_features.shape: torch.Size([1, 128])\n",
      "DEBUG:root:[END LOOP] ITEM - 4\n",
      "DEBUG:root:##########\n",
      "DEBUG:root:OutfitCompatibilityModel - curren outfit's feature vectors dimensions: 1 with lengths: [5]\n",
      "DEBUG:root:OutfitCompatibilityModel - CUR OUTFIT's feature vectors after stack: torch.Size([1, 5, 128])\n",
      "DEBUG:root:[END LOOP] OUTFIT - 10\n",
      "DEBUG:root:@@@@@@@@@@\n",
      "DEBUG:root:@@@@@@@@@@\n",
      "DEBUG:root:[START LOOP] OUTFIT - 11\n",
      "DEBUG:root:OutfitCompatibilityModel - outfit_images.shape: torch.Size([5, 3, 224, 224])\n",
      "DEBUG:root:##########\n",
      "DEBUG:root:[START LOOP] ITEM - 0\n",
      "DEBUG:root:OutfitCompatibilityModel - item_index: 0 - item_image.shape: torch.Size([1, 3, 224, 224]) item_text.shape: mock description 0\n",
      "DEBUG:root:ImageEncoder - after fc_layer x's shape: torch.Size([1, 64])\n",
      "DEBUG:root:----------\n"
     ]
    },
    {
     "name": "stdout",
     "output_type": "stream",
     "text": [
      "TextEncoder - x's shape after fc_layer: torch.Size([1, 64])\n",
      "----------\n",
      "----------\n"
     ]
    },
    {
     "name": "stderr",
     "output_type": "stream",
     "text": [
      "DEBUG:root:OutfitCompatibilityModel - item_features.shape: torch.Size([1, 128])\n",
      "DEBUG:root:[END LOOP] ITEM - 0\n",
      "DEBUG:root:##########\n",
      "DEBUG:root:##########\n",
      "DEBUG:root:[START LOOP] ITEM - 1\n",
      "DEBUG:root:OutfitCompatibilityModel - item_index: 1 - item_image.shape: torch.Size([1, 3, 224, 224]) item_text.shape: mock description 1\n",
      "DEBUG:root:ImageEncoder - after fc_layer x's shape: torch.Size([1, 64])\n",
      "DEBUG:root:----------\n",
      "DEBUG:root:OutfitCompatibilityModel - item_features.shape: torch.Size([1, 128])\n"
     ]
    },
    {
     "name": "stdout",
     "output_type": "stream",
     "text": [
      "TextEncoder - x's shape after fc_layer: torch.Size([1, 64])\n",
      "----------\n",
      "----------\n",
      "TextEncoder - x's shape after fc_layer: torch.Size([1, 64])\n",
      "----------\n"
     ]
    },
    {
     "name": "stderr",
     "output_type": "stream",
     "text": [
      "DEBUG:root:[END LOOP] ITEM - 1\n",
      "DEBUG:root:##########\n",
      "DEBUG:root:##########\n",
      "DEBUG:root:[START LOOP] ITEM - 2\n",
      "DEBUG:root:OutfitCompatibilityModel - item_index: 2 - item_image.shape: torch.Size([1, 3, 224, 224]) item_text.shape: mock description 2\n",
      "DEBUG:root:ImageEncoder - after fc_layer x's shape: torch.Size([1, 64])\n",
      "DEBUG:root:----------\n",
      "DEBUG:root:OutfitCompatibilityModel - item_features.shape: torch.Size([1, 128])\n",
      "DEBUG:root:[END LOOP] ITEM - 2\n",
      "DEBUG:root:##########\n",
      "DEBUG:root:##########\n",
      "DEBUG:root:[START LOOP] ITEM - 3\n",
      "DEBUG:root:OutfitCompatibilityModel - item_index: 3 - item_image.shape: torch.Size([1, 3, 224, 224]) item_text.shape: mock description 3\n"
     ]
    },
    {
     "name": "stdout",
     "output_type": "stream",
     "text": [
      "----------\n",
      "TextEncoder - x's shape after fc_layer: torch.Size([1, 64])\n",
      "----------\n"
     ]
    },
    {
     "name": "stderr",
     "output_type": "stream",
     "text": [
      "DEBUG:root:ImageEncoder - after fc_layer x's shape: torch.Size([1, 64])\n",
      "DEBUG:root:----------\n",
      "DEBUG:root:OutfitCompatibilityModel - item_features.shape: torch.Size([1, 128])\n",
      "DEBUG:root:[END LOOP] ITEM - 3\n",
      "DEBUG:root:##########\n",
      "DEBUG:root:##########\n",
      "DEBUG:root:[START LOOP] ITEM - 4\n",
      "DEBUG:root:OutfitCompatibilityModel - item_index: 4 - item_image.shape: torch.Size([1, 3, 224, 224]) item_text.shape: mock description 4\n"
     ]
    },
    {
     "name": "stdout",
     "output_type": "stream",
     "text": [
      "----------\n",
      "TextEncoder - x's shape after fc_layer: torch.Size([1, 64])\n",
      "----------\n"
     ]
    },
    {
     "name": "stderr",
     "output_type": "stream",
     "text": [
      "DEBUG:root:ImageEncoder - after fc_layer x's shape: torch.Size([1, 64])\n",
      "DEBUG:root:----------\n",
      "DEBUG:root:OutfitCompatibilityModel - item_features.shape: torch.Size([1, 128])\n",
      "DEBUG:root:[END LOOP] ITEM - 4\n",
      "DEBUG:root:##########\n",
      "DEBUG:root:OutfitCompatibilityModel - curren outfit's feature vectors dimensions: 1 with lengths: [5]\n",
      "DEBUG:root:OutfitCompatibilityModel - CUR OUTFIT's feature vectors after stack: torch.Size([1, 5, 128])\n",
      "DEBUG:root:[END LOOP] OUTFIT - 11\n",
      "DEBUG:root:@@@@@@@@@@\n",
      "DEBUG:root:@@@@@@@@@@\n",
      "DEBUG:root:[START LOOP] OUTFIT - 12\n",
      "DEBUG:root:OutfitCompatibilityModel - outfit_images.shape: torch.Size([5, 3, 224, 224])\n",
      "DEBUG:root:##########\n",
      "DEBUG:root:[START LOOP] ITEM - 0\n",
      "DEBUG:root:OutfitCompatibilityModel - item_index: 0 - item_image.shape: torch.Size([1, 3, 224, 224]) item_text.shape: mock description 0\n"
     ]
    },
    {
     "name": "stdout",
     "output_type": "stream",
     "text": [
      "----------\n",
      "TextEncoder - x's shape after fc_layer: torch.Size([1, 64])\n",
      "----------\n"
     ]
    },
    {
     "name": "stderr",
     "output_type": "stream",
     "text": [
      "DEBUG:root:ImageEncoder - after fc_layer x's shape: torch.Size([1, 64])\n",
      "DEBUG:root:----------\n",
      "DEBUG:root:OutfitCompatibilityModel - item_features.shape: torch.Size([1, 128])\n",
      "DEBUG:root:[END LOOP] ITEM - 0\n",
      "DEBUG:root:##########\n",
      "DEBUG:root:##########\n",
      "DEBUG:root:[START LOOP] ITEM - 1\n",
      "DEBUG:root:OutfitCompatibilityModel - item_index: 1 - item_image.shape: torch.Size([1, 3, 224, 224]) item_text.shape: mock description 1\n"
     ]
    },
    {
     "name": "stdout",
     "output_type": "stream",
     "text": [
      "----------\n",
      "TextEncoder - x's shape after fc_layer: torch.Size([1, 64])\n",
      "----------\n"
     ]
    },
    {
     "name": "stderr",
     "output_type": "stream",
     "text": [
      "DEBUG:root:ImageEncoder - after fc_layer x's shape: torch.Size([1, 64])\n",
      "DEBUG:root:----------\n",
      "DEBUG:root:OutfitCompatibilityModel - item_features.shape: torch.Size([1, 128])\n",
      "DEBUG:root:[END LOOP] ITEM - 1\n",
      "DEBUG:root:##########\n",
      "DEBUG:root:##########\n",
      "DEBUG:root:[START LOOP] ITEM - 2\n",
      "DEBUG:root:OutfitCompatibilityModel - item_index: 2 - item_image.shape: torch.Size([1, 3, 224, 224]) item_text.shape: mock description 2\n"
     ]
    },
    {
     "name": "stdout",
     "output_type": "stream",
     "text": [
      "----------\n",
      "TextEncoder - x's shape after fc_layer: torch.Size([1, 64])\n",
      "----------\n"
     ]
    },
    {
     "name": "stderr",
     "output_type": "stream",
     "text": [
      "DEBUG:root:ImageEncoder - after fc_layer x's shape: torch.Size([1, 64])\n",
      "DEBUG:root:----------\n",
      "DEBUG:root:OutfitCompatibilityModel - item_features.shape: torch.Size([1, 128])\n",
      "DEBUG:root:[END LOOP] ITEM - 2\n",
      "DEBUG:root:##########\n",
      "DEBUG:root:##########\n",
      "DEBUG:root:[START LOOP] ITEM - 3\n",
      "DEBUG:root:OutfitCompatibilityModel - item_index: 3 - item_image.shape: torch.Size([1, 3, 224, 224]) item_text.shape: mock description 3\n"
     ]
    },
    {
     "name": "stdout",
     "output_type": "stream",
     "text": [
      "----------\n",
      "TextEncoder - x's shape after fc_layer: torch.Size([1, 64])\n",
      "----------\n"
     ]
    },
    {
     "name": "stderr",
     "output_type": "stream",
     "text": [
      "DEBUG:root:ImageEncoder - after fc_layer x's shape: torch.Size([1, 64])\n",
      "DEBUG:root:----------\n"
     ]
    },
    {
     "name": "stdout",
     "output_type": "stream",
     "text": [
      "----------\n"
     ]
    },
    {
     "name": "stderr",
     "output_type": "stream",
     "text": [
      "DEBUG:root:OutfitCompatibilityModel - item_features.shape: torch.Size([1, 128])\n",
      "DEBUG:root:[END LOOP] ITEM - 3\n",
      "DEBUG:root:##########\n",
      "DEBUG:root:##########\n",
      "DEBUG:root:[START LOOP] ITEM - 4\n",
      "DEBUG:root:OutfitCompatibilityModel - item_index: 4 - item_image.shape: torch.Size([1, 3, 224, 224]) item_text.shape: mock description 4\n"
     ]
    },
    {
     "name": "stdout",
     "output_type": "stream",
     "text": [
      "TextEncoder - x's shape after fc_layer: torch.Size([1, 64])\n",
      "----------\n"
     ]
    },
    {
     "name": "stderr",
     "output_type": "stream",
     "text": [
      "DEBUG:root:ImageEncoder - after fc_layer x's shape: torch.Size([1, 64])\n",
      "DEBUG:root:----------\n",
      "DEBUG:root:OutfitCompatibilityModel - item_features.shape: torch.Size([1, 128])\n",
      "DEBUG:root:[END LOOP] ITEM - 4\n",
      "DEBUG:root:##########\n",
      "DEBUG:root:OutfitCompatibilityModel - curren outfit's feature vectors dimensions: 1 with lengths: [5]\n",
      "DEBUG:root:OutfitCompatibilityModel - CUR OUTFIT's feature vectors after stack: torch.Size([1, 5, 128])\n",
      "DEBUG:root:[END LOOP] OUTFIT - 12\n",
      "DEBUG:root:@@@@@@@@@@\n",
      "DEBUG:root:@@@@@@@@@@\n"
     ]
    },
    {
     "name": "stdout",
     "output_type": "stream",
     "text": [
      "----------\n",
      "TextEncoder - x's shape after fc_layer: torch.Size([1, 64])\n",
      "----------\n"
     ]
    },
    {
     "name": "stderr",
     "output_type": "stream",
     "text": [
      "DEBUG:root:[START LOOP] OUTFIT - 13\n",
      "DEBUG:root:OutfitCompatibilityModel - outfit_images.shape: torch.Size([5, 3, 224, 224])\n",
      "DEBUG:root:##########\n",
      "DEBUG:root:[START LOOP] ITEM - 0\n",
      "DEBUG:root:OutfitCompatibilityModel - item_index: 0 - item_image.shape: torch.Size([1, 3, 224, 224]) item_text.shape: mock description 0\n",
      "DEBUG:root:ImageEncoder - after fc_layer x's shape: torch.Size([1, 64])\n",
      "DEBUG:root:----------\n",
      "DEBUG:root:OutfitCompatibilityModel - item_features.shape: torch.Size([1, 128])\n",
      "DEBUG:root:[END LOOP] ITEM - 0\n",
      "DEBUG:root:##########\n",
      "DEBUG:root:##########\n",
      "DEBUG:root:[START LOOP] ITEM - 1\n",
      "DEBUG:root:OutfitCompatibilityModel - item_index: 1 - item_image.shape: torch.Size([1, 3, 224, 224]) item_text.shape: mock description 1\n"
     ]
    },
    {
     "name": "stdout",
     "output_type": "stream",
     "text": [
      "----------\n",
      "TextEncoder - x's shape after fc_layer: torch.Size([1, 64])\n",
      "----------\n"
     ]
    },
    {
     "name": "stderr",
     "output_type": "stream",
     "text": [
      "DEBUG:root:ImageEncoder - after fc_layer x's shape: torch.Size([1, 64])\n",
      "DEBUG:root:----------\n",
      "DEBUG:root:OutfitCompatibilityModel - item_features.shape: torch.Size([1, 128])\n",
      "DEBUG:root:[END LOOP] ITEM - 1\n",
      "DEBUG:root:##########\n",
      "DEBUG:root:##########\n",
      "DEBUG:root:[START LOOP] ITEM - 2\n",
      "DEBUG:root:OutfitCompatibilityModel - item_index: 2 - item_image.shape: torch.Size([1, 3, 224, 224]) item_text.shape: mock description 2\n",
      "DEBUG:root:ImageEncoder - after fc_layer x's shape: torch.Size([1, 64])\n"
     ]
    },
    {
     "name": "stdout",
     "output_type": "stream",
     "text": [
      "----------\n",
      "TextEncoder - x's shape after fc_layer: torch.Size([1, 64])\n",
      "----------\n"
     ]
    },
    {
     "name": "stderr",
     "output_type": "stream",
     "text": [
      "DEBUG:root:----------\n",
      "DEBUG:root:OutfitCompatibilityModel - item_features.shape: torch.Size([1, 128])\n",
      "DEBUG:root:[END LOOP] ITEM - 2\n",
      "DEBUG:root:##########\n",
      "DEBUG:root:##########\n",
      "DEBUG:root:[START LOOP] ITEM - 3\n",
      "DEBUG:root:OutfitCompatibilityModel - item_index: 3 - item_image.shape: torch.Size([1, 3, 224, 224]) item_text.shape: mock description 3\n"
     ]
    },
    {
     "name": "stdout",
     "output_type": "stream",
     "text": [
      "----------\n",
      "TextEncoder - x's shape after fc_layer: torch.Size([1, 64])\n",
      "----------\n"
     ]
    },
    {
     "name": "stderr",
     "output_type": "stream",
     "text": [
      "DEBUG:root:ImageEncoder - after fc_layer x's shape: torch.Size([1, 64])\n",
      "DEBUG:root:----------\n",
      "DEBUG:root:OutfitCompatibilityModel - item_features.shape: torch.Size([1, 128])\n",
      "DEBUG:root:[END LOOP] ITEM - 3\n",
      "DEBUG:root:##########\n",
      "DEBUG:root:##########\n",
      "DEBUG:root:[START LOOP] ITEM - 4\n",
      "DEBUG:root:OutfitCompatibilityModel - item_index: 4 - item_image.shape: torch.Size([1, 3, 224, 224]) item_text.shape: mock description 4\n"
     ]
    },
    {
     "name": "stdout",
     "output_type": "stream",
     "text": [
      "----------\n",
      "TextEncoder - x's shape after fc_layer: torch.Size([1, 64])\n",
      "----------\n"
     ]
    },
    {
     "name": "stderr",
     "output_type": "stream",
     "text": [
      "DEBUG:root:ImageEncoder - after fc_layer x's shape: torch.Size([1, 64])\n",
      "DEBUG:root:----------\n",
      "DEBUG:root:OutfitCompatibilityModel - item_features.shape: torch.Size([1, 128])\n",
      "DEBUG:root:[END LOOP] ITEM - 4\n",
      "DEBUG:root:##########\n",
      "DEBUG:root:OutfitCompatibilityModel - curren outfit's feature vectors dimensions: 1 with lengths: [5]\n",
      "DEBUG:root:OutfitCompatibilityModel - CUR OUTFIT's feature vectors after stack: torch.Size([1, 5, 128])\n",
      "DEBUG:root:[END LOOP] OUTFIT - 13\n",
      "DEBUG:root:@@@@@@@@@@\n",
      "DEBUG:root:@@@@@@@@@@\n",
      "DEBUG:root:[START LOOP] OUTFIT - 14\n",
      "DEBUG:root:OutfitCompatibilityModel - outfit_images.shape: torch.Size([5, 3, 224, 224])\n",
      "DEBUG:root:##########\n",
      "DEBUG:root:[START LOOP] ITEM - 0\n",
      "DEBUG:root:OutfitCompatibilityModel - item_index: 0 - item_image.shape: torch.Size([1, 3, 224, 224]) item_text.shape: mock description 0\n",
      "DEBUG:root:ImageEncoder - after fc_layer x's shape: torch.Size([1, 64])\n",
      "DEBUG:root:----------\n"
     ]
    },
    {
     "name": "stdout",
     "output_type": "stream",
     "text": [
      "----------\n",
      "TextEncoder - x's shape after fc_layer: torch.Size([1, 64])\n",
      "----------\n",
      "----------\n"
     ]
    },
    {
     "name": "stderr",
     "output_type": "stream",
     "text": [
      "DEBUG:root:OutfitCompatibilityModel - item_features.shape: torch.Size([1, 128])\n",
      "DEBUG:root:[END LOOP] ITEM - 0\n",
      "DEBUG:root:##########\n",
      "DEBUG:root:##########\n",
      "DEBUG:root:[START LOOP] ITEM - 1\n",
      "DEBUG:root:OutfitCompatibilityModel - item_index: 1 - item_image.shape: torch.Size([1, 3, 224, 224]) item_text.shape: mock description 1\n",
      "DEBUG:root:ImageEncoder - after fc_layer x's shape: torch.Size([1, 64])\n",
      "DEBUG:root:----------\n",
      "DEBUG:root:OutfitCompatibilityModel - item_features.shape: torch.Size([1, 128])\n",
      "DEBUG:root:[END LOOP] ITEM - 1\n",
      "DEBUG:root:##########\n",
      "DEBUG:root:##########\n",
      "DEBUG:root:[START LOOP] ITEM - 2\n",
      "DEBUG:root:OutfitCompatibilityModel - item_index: 2 - item_image.shape: torch.Size([1, 3, 224, 224]) item_text.shape: mock description 2\n"
     ]
    },
    {
     "name": "stdout",
     "output_type": "stream",
     "text": [
      "TextEncoder - x's shape after fc_layer: torch.Size([1, 64])\n",
      "----------\n",
      "----------\n",
      "TextEncoder - x's shape after fc_layer: torch.Size([1, 64])\n",
      "----------\n"
     ]
    },
    {
     "name": "stderr",
     "output_type": "stream",
     "text": [
      "DEBUG:root:ImageEncoder - after fc_layer x's shape: torch.Size([1, 64])\n",
      "DEBUG:root:----------\n",
      "DEBUG:root:OutfitCompatibilityModel - item_features.shape: torch.Size([1, 128])\n",
      "DEBUG:root:[END LOOP] ITEM - 2\n",
      "DEBUG:root:##########\n",
      "DEBUG:root:##########\n",
      "DEBUG:root:[START LOOP] ITEM - 3\n",
      "DEBUG:root:OutfitCompatibilityModel - item_index: 3 - item_image.shape: torch.Size([1, 3, 224, 224]) item_text.shape: mock description 3\n",
      "DEBUG:root:ImageEncoder - after fc_layer x's shape: torch.Size([1, 64])\n",
      "DEBUG:root:----------\n"
     ]
    },
    {
     "name": "stdout",
     "output_type": "stream",
     "text": [
      "----------\n",
      "TextEncoder - x's shape after fc_layer: torch.Size([1, 64])\n",
      "----------\n",
      "----------\n"
     ]
    },
    {
     "name": "stderr",
     "output_type": "stream",
     "text": [
      "DEBUG:root:OutfitCompatibilityModel - item_features.shape: torch.Size([1, 128])\n",
      "DEBUG:root:[END LOOP] ITEM - 3\n",
      "DEBUG:root:##########\n",
      "DEBUG:root:##########\n",
      "DEBUG:root:[START LOOP] ITEM - 4\n",
      "DEBUG:root:OutfitCompatibilityModel - item_index: 4 - item_image.shape: torch.Size([1, 3, 224, 224]) item_text.shape: mock description 4\n",
      "DEBUG:root:ImageEncoder - after fc_layer x's shape: torch.Size([1, 64])\n",
      "DEBUG:root:----------\n",
      "DEBUG:root:OutfitCompatibilityModel - item_features.shape: torch.Size([1, 128])\n"
     ]
    },
    {
     "name": "stdout",
     "output_type": "stream",
     "text": [
      "TextEncoder - x's shape after fc_layer: torch.Size([1, 64])\n",
      "----------\n",
      "----------\n",
      "TextEncoder - x's shape after fc_layer: torch.Size([1, 64])\n",
      "----------\n"
     ]
    },
    {
     "name": "stderr",
     "output_type": "stream",
     "text": [
      "DEBUG:root:[END LOOP] ITEM - 4\n",
      "DEBUG:root:##########\n",
      "DEBUG:root:OutfitCompatibilityModel - curren outfit's feature vectors dimensions: 1 with lengths: [5]\n",
      "DEBUG:root:OutfitCompatibilityModel - CUR OUTFIT's feature vectors after stack: torch.Size([1, 5, 128])\n",
      "DEBUG:root:[END LOOP] OUTFIT - 14\n",
      "DEBUG:root:@@@@@@@@@@\n",
      "DEBUG:root:OutfitCompatibilityModel - ALL OUTFITS' feature vetors: torch.Size([15, 5, 128])\n",
      "DEBUG:root:OutfitCompatibilityModel - outfit_token.shape - init: torch.Size([1, 1, 128])\n",
      "DEBUG:root:OutfitCompatibilityModel - outfit_token.shape - after expand: torch.Size([1, 1, 128])\n",
      "DEBUG:root:OutfitCompatibilityModel - outfit_features.shape: torch.Size([15, 6, 128])\n",
      "DEBUG:root:OutfitCompatibilityModel - transformer_output.shape: torch.Size([15, 6, 128])\n",
      "DEBUG:root:OutfitCompatibilityModel - global_outfit_representation: tensor([[-0.8220,  1.1977,  0.5370,  ..., -0.7296, -0.0055, -0.5198],\n",
      "        [-1.0402,  1.1723,  0.6157,  ..., -0.9655,  0.1245, -0.6516],\n",
      "        [-0.8807,  1.3166,  0.6949,  ..., -0.8186,  0.2091, -0.3166],\n",
      "        ...,\n",
      "        [-0.8330,  1.3408,  0.5216,  ..., -0.7929,  0.0607, -0.4416],\n",
      "        [-0.8928,  1.2522,  0.5247,  ..., -0.6318,  0.0667, -0.6326],\n",
      "        [-0.8294,  1.1827,  0.6515,  ..., -0.8643,  0.2245, -0.4663]],\n",
      "       grad_fn=<MeanBackward1>)\n",
      "DEBUG:root:OutfitCompatibilityModel - outfit_score: torch.Size([15, 1])\n",
      "DEBUG:root:OutfitCompatibilityModel - END\n",
      "DEBUG:root:!!!!!!!!!!\n"
     ]
    }
   ],
   "source": [
    "# Training loop\n",
    "num_epochs = 3\n",
    "for epoch in range(num_epochs):\n",
    "    for batch in dataloader:\n",
    "        images, texts, labels = batch\n",
    "        # images = batch[\"outfit_images\"]\n",
    "        # texts = batch[\"outfit_texts\"]\n",
    "        # labels = batch[\"outfit_labels\"]\n",
    "\n",
    "        print(f\"batch - images.shape: {images.shape}\")\n",
    "        print(f\"batch - texts: {texts}\")\n",
    "        print(f\"batch - labels: {labels}\")\n",
    "\n",
    "        optimizer.zero_grad()\n",
    "        outputs = model(images, texts)\n",
    "        loss = focal_loss(\n",
    "            outputs, labels.unsqueeze(1)\n",
    "        )  # Ensure labels have the right dimension\n",
    "        loss.backward()\n",
    "        optimizer.step()\n",
    "\n",
    "        # Print or log the loss if needed\n",
    "        print(f\"Epoch {epoch + 1}, Batch loss: {loss.item()}\")\n",
    "\n",
    "    save_checkpoint(model.state_dict(), \"mock\", f\"model_epoch_{epoch + 1}.pth\")\n",
    "\n",
    "    # Adjust the learning rate as needed (reduce by half in steps of 10)\n",
    "    if (epoch + 1) % 10 == 0:\n",
    "        for param_group in optimizer.param_groups:\n",
    "            param_group[\"lr\"] = param_group[\"lr\"] / 2"
   ]
  }
 ],
 "metadata": {
  "kernelspec": {
   "display_name": "outfit_recommendation",
   "language": "python",
   "name": "python3"
  },
  "language_info": {
   "codemirror_mode": {
    "name": "ipython",
    "version": 3
   },
   "file_extension": ".py",
   "mimetype": "text/x-python",
   "name": "python",
   "nbconvert_exporter": "python",
   "pygments_lexer": "ipython3",
   "version": "3.10.13"
  }
 },
 "nbformat": 4,
 "nbformat_minor": 2
}
